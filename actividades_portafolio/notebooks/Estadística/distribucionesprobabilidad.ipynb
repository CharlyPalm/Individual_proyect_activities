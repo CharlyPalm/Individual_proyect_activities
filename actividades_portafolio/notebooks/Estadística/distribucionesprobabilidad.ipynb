{
 "cells": [
  {
   "cell_type": "markdown",
   "metadata": {},
   "source": [
    "# 1.- Una barra de 12 pulg que está sujeta por ambos extremos se somete a una cantidad creciente de esfuerzo hasta que se rompe. Sea Y = la distancia del extremo izquierdo al punto donde ocurre la ruptura. Suponga que Y tiene la función de densidad de probabilidad: "
   ]
  },
  {
   "cell_type": "markdown",
   "metadata": {},
   "source": [
    "### * a.- La función de distribución acumulativa de Y."
   ]
  },
  {
   "cell_type": "code",
   "execution_count": null,
   "metadata": {},
   "outputs": [],
   "source": [
    "# Función de acumulación de probabilidad dada una función de densidad\n",
    "\n",
    "import numpy as np\n",
    "import matplotlib.pyplot as plt\n",
    "from sympy import integrate, init_printing\n",
    "from sympy.abc import x\n",
    "init_printing(use_latex=\"mathjax\")"
   ]
  },
  {
   "cell_type": "code",
   "execution_count": null,
   "metadata": {},
   "outputs": [],
   "source": [
    "f = (1/24) * x * (1-x/12)\n",
    "\n",
    "#Corroborando que la funcion de densidad sea valida\n",
    "F = round(integrate(f, (x, 0, 12)))\n",
    "if F != 1:\n",
    "    print(\"La función de densidad no es válida, F:\", F)\n",
    "else:\n",
    "    print(\"La función de densidad es válida, F: \", F)\n",
    "\n",
    "#Calculando la función de acumulación de probabilidad\n",
    "Fa = integrate(f, (x, 0, x))\n",
    "\n",
    "print(\"La funcion de acumulacion de probabilidad es:\", Fa)"
   ]
  },
  {
   "cell_type": "markdown",
   "metadata": {},
   "source": [
    "### *b.- P(Y ≤ 4), P(Y > 6) y P(4 ≤ Y ≤ 6)"
   ]
  },
  {
   "cell_type": "code",
   "execution_count": null,
   "metadata": {},
   "outputs": [],
   "source": [
    "# Función de densidad acumulada de 0 a 4\n",
    "Fb1 = integrate(f, (x, 0, 4))\n",
    "print(\"Función de densidad acumulada de 0 a 4 es:\", Fb1, \"pulgadas. \\nEsta es la probabilidad que la barra se rompa entre los 0 a 4 pulgadas\")\n",
    "\n",
    "# Función de densidad acumulada de 0 a 6\n",
    "Fb2 = integrate(f, (x, 0, 6))\n",
    "print(\"\\nFunción de densidad acumulada de 0 a 6 es:\", Fb2, \"pulgadas. \\nEsta es la probabilidad que la barra se rompa entre los 0 a 6 pulgadas\")\n",
    "\n",
    "# Función de densidad acumulada de 4 a 6\n",
    "Fb3 = integrate(f, (x, 4, 6))\n",
    "print(\"\\nFunción de densidad acumulada de 4 a 6 es:\", Fb3, \"pulgadas. \\nEsta es la probabilidad que la barra se rompa entre los 4 a 6 pulgadas\")"
   ]
  },
  {
   "cell_type": "markdown",
   "metadata": {},
   "source": [
    "### *c.- E(Y), E(Y^2) y Var(Y)."
   ]
  },
  {
   "cell_type": "code",
   "execution_count": null,
   "metadata": {},
   "outputs": [],
   "source": [
    "# Calculando valor esperado E(X), E(X^2) y Var(X)\n",
    "Ex = integrate(x*f, (x, 0, 12))\n",
    "print(\"El valor esperado E(X) es:\", Ex, \"pulgadas. \")\n",
    "\n",
    "\n",
    "Ex2 = integrate(x**2*f, (x, 0, 12))\n",
    "print(\"El valor esperado E(X^2) es:\", Ex2)\n",
    "\n",
    "VarX = Ex2 - Ex**2\n",
    "print(\"La varianza Var(X) es:\", VarX)"
   ]
  },
  {
   "cell_type": "markdown",
   "metadata": {},
   "source": [
    "### *d.- La probabilidad de que el punto de ruptura ocurra a más de 2 pulg del punto de ruptura esperado."
   ]
  },
  {
   "cell_type": "code",
   "execution_count": null,
   "metadata": {},
   "outputs": [],
   "source": [
    "# Calculando el valor esperado\n",
    "E = integrate(x*f, (x, 0, 12))\n",
    "print(\"\\nEl valor esperado es:\", E, \"pulgadas. \\nEs decir que la barra se romperá en promedio a 6 pulgadas o la mayor parte de las veces\")\n",
    "\n",
    "# Probabilidad de de E + 2 \n",
    "P = integrate(f, (x, E+2, 12))\n",
    "print(f\"\\nLa probabilidad de que se rompa a 2 pulgadas después del valor esperado es:\", P, \"pulgadas. \\nEs decir que la probabilidad de que la barra se rompa desde los 8 pulgadas hasta los 12 pulgadas es de:\", P*100, \"%\")"
   ]
  },
  {
   "cell_type": "markdown",
   "metadata": {},
   "source": [
    "# 2.- Sea X la temperatura, en grados centígrados, a la cual ocurre una reacción química.  Suponga que X tiene una función de densidad de probabilidad:"
   ]
  },
  {
   "cell_type": "markdown",
   "metadata": {},
   "source": [
    "### *a.- Corrobore que la función es una distribución válida."
   ]
  },
  {
   "cell_type": "code",
   "execution_count": null,
   "metadata": {},
   "outputs": [],
   "source": [
    "f2 = 1/9 * (4-x**2)\n",
    "liminf = -1\n",
    "limsup = 2\n",
    "\n",
    "F2 = round(integrate(f2, (x, liminf, limsup)))\n",
    "if F2 != 1:\n",
    "    print(\"La función de densidad no es válida, F:\", F2)\n",
    "else:\n",
    "    print(\"La función de densidad es válida, con límite inferior de:\", liminf, \"y límite superior de:\", limsup, \"F: \", F2)"
   ]
  },
  {
   "cell_type": "markdown",
   "metadata": {},
   "source": [
    "### *b.- Determine la función de distribución acumulativa."
   ]
  },
  {
   "cell_type": "code",
   "execution_count": null,
   "metadata": {},
   "outputs": [],
   "source": [
    "# determinando la funcion de distribucion acumulativa de -1 a 2\n",
    "F3 = integrate(f2, (x, -1, x))\n",
    "print(\"La función de densidad acumulada de -1 a x es:\", F3)"
   ]
  },
  {
   "cell_type": "markdown",
   "metadata": {},
   "source": [
    "### *c.- E(Y), E(Y2) y Var(Y)."
   ]
  },
  {
   "cell_type": "code",
   "execution_count": null,
   "metadata": {},
   "outputs": [],
   "source": [
    "#Calculando el valor esperado E(X), E(X^2) y Var(X)\n",
    "Ex = integrate(x*f2, (x, liminf, limsup))\n",
    "print(\"El valor esperado E(X) es:\", Ex)\n",
    "\n",
    "Ex2 = integrate(x**2*f2, (x, liminf, limsup))\n",
    "print(\"El valor esperado E(X^2) es:\", Ex2)\n",
    "\n",
    "VarX = Ex2 - Ex**2\n",
    "print(\"La varianza Var(X) es:\", VarX)"
   ]
  },
  {
   "cell_type": "markdown",
   "metadata": {},
   "source": [
    "### *d.- La probabilidad de que la temperatura sea menor a 0°C"
   ]
  },
  {
   "cell_type": "code",
   "execution_count": null,
   "metadata": {},
   "outputs": [],
   "source": [
    "# Calculando la probabilidad de liminf a 0\n",
    "P = integrate(f2, (x, liminf, 0))\n",
    "print(\"La probabilidad de que la reacción química se haga desde\", liminf, \"hasta 0 es:\", P, \"\\nEs decir que la probabilidad de que la reacción química se haga desde -1 hasta 0 es de:\", round(P*100,2), \"%\")"
   ]
  },
  {
   "cell_type": "markdown",
   "metadata": {},
   "source": [
    "### *e.- La probabilidad de que la temperatura sea entre 4°C y 6°C"
   ]
  },
  {
   "cell_type": "code",
   "execution_count": null,
   "metadata": {},
   "outputs": [],
   "source": [
    "#Calculando la probabilidad de 4 a 6\n",
    "P2 = integrate(f2, (x, 4, 6))\n",
    "print(\"La probabilidad de que sea a partir de 4 hasta 6 es:\", P2)\n",
    "print(\"\"\" \n",
    "\n",
    "Ya que los límites están dados entre -1 y 2; la probabilidad que la temperatura sea de 4 a 6 es inexistente, ya que la función de densidad de probabilidad no se encuentra en ese rango.\n",
    "Por eso, al calcular la probabilidad de que sea a partir de 4 hasta 6, el resultado es negativo y no entre 0 y 1.\n",
    "\n",
    "\"\"\")"
   ]
  }
 ],
 "metadata": {
  "kernelspec": {
   "display_name": "concentracion",
   "language": "python",
   "name": "python3"
  },
  "language_info": {
   "codemirror_mode": {
    "name": "ipython",
    "version": 3
   },
   "file_extension": ".py",
   "mimetype": "text/x-python",
   "name": "python",
   "nbconvert_exporter": "python",
   "pygments_lexer": "ipython3",
   "version": "3.10.14"
  }
 },
 "nbformat": 4,
 "nbformat_minor": 2
}
