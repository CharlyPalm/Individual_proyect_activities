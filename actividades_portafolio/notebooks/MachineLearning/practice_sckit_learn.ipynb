{
 "cells": [
  {
   "cell_type": "code",
   "execution_count": 2,
   "metadata": {},
   "outputs": [],
   "source": [
    "from sklearn import datasets\n",
    "from sklearn import linear_model\n",
    "from sklearn.model_selection import KFold\n",
    "from sklearn.metrics import mean_squared_error, r2_score"
   ]
  },
  {
   "cell_type": "code",
   "execution_count": 3,
   "metadata": {},
   "outputs": [],
   "source": [
    "# Import Diabetes dataset\n",
    "diabetes = datasets.load_diabetes()\n",
    "x = diabetes.data\n",
    "y = diabetes.target\n",
    "features = diabetes.feature_names\n",
    "n_features = len(features)"
   ]
  },
  {
   "cell_type": "code",
   "execution_count": 5,
   "metadata": {},
   "outputs": [
    {
     "name": "stdout",
     "output_type": "stream",
     "text": [
      "Coeficientes del modelo:  [ -10.0098663  -239.81564367  519.84592005  324.3846455  -792.17563855\n",
      "  476.73902101  101.04326794  177.06323767  751.27369956   67.62669218]\n",
      "MSE:  2859.69634758675\n",
      "R^2:  0.5177484222203499\n"
     ]
    }
   ],
   "source": [
    "###### Train linear regression model\n",
    "regr = linear_model.LinearRegression()\n",
    "regr.fit(x, y)\n",
    "print(\"Coeficientes del modelo: \", regr.coef_)\n",
    "\n",
    "y_pred = regr.predict(x)\n",
    "print('MSE: ', mean_squared_error(y, y_pred))\n",
    "print(\"R^2: \", r2_score(y, y_pred))"
   ]
  },
  {
   "cell_type": "code",
   "execution_count": 7,
   "metadata": {},
   "outputs": [
    {
     "name": "stdout",
     "output_type": "stream",
     "text": [
      "mse =  3269.0293869981106\n",
      "r^2=  0.478240456192095\n",
      "mse =  2892.604434642402\n",
      "r^2=  0.548010531830972\n",
      "mse =  2613.372915882429\n",
      "r^2=  0.5446668291108467\n",
      "mse =  2730.1532432218023\n",
      "r^2=  0.48571572641296623\n",
      "mse =  3447.131208779765\n",
      "r^2=  0.41260653632253963\n",
      "MSE =  2990.4582379049016\n",
      "R^2 =  0.49384801597388395\n"
     ]
    }
   ],
   "source": [
    "# k-fold cross-validation\n",
    "n_folds = 5\n",
    "kf = KFold(n_splits=n_folds, shuffle = True)\n",
    "\n",
    "mse = 0\n",
    "r2 = 0\n",
    "for train_index, test_index in kf.split(x):\n",
    "\n",
    "    # Training phase\n",
    "    x_train = x[train_index, :]\n",
    "    y_train = y[train_index]\n",
    "\n",
    "    regr_cv = linear_model.LinearRegression()\n",
    "    regr_cv.fit(x_train, y_train)\n",
    "\n",
    "    # Test phase\n",
    "    x_test = x[test_index, :]\n",
    "    y_test = y[test_index]    \n",
    "\n",
    "    y_pred = regr_cv.predict(x_test)\n",
    "\n",
    "    # Calculate MSE and R^2    \n",
    "    mse_i = mean_squared_error(y_test, y_pred)\n",
    "    print('mse = ', mse_i)\n",
    "\n",
    "    r2_i = r2_score(y_test, y_pred)\n",
    "    print('r^2= ', r2_i)\n",
    "\n",
    "    mse += mse_i \n",
    "    r2 += r2_i \n",
    "\n",
    "mse = mse/n_folds\n",
    "print('MSE = ', mse)\n",
    "\n",
    "r2 = r2/n_folds\n",
    "print('R^2 = ', r2)"
   ]
  },
  {
   "cell_type": "code",
   "execution_count": 9,
   "metadata": {},
   "outputs": [
    {
     "name": "stdout",
     "output_type": "stream",
     "text": [
      "MSE:  2992.679946593995\n",
      "R^2:  0.49532242216821853\n"
     ]
    }
   ],
   "source": [
    "# k-folds cross-validation using cross_val_predict\n",
    "from sklearn.model_selection import cross_val_predict\n",
    "n_folds = 5\n",
    "regr = linear_model.LinearRegression()\n",
    "y_pred = cross_val_predict(regr, x, y, cv=n_folds)\n",
    "\n",
    "print('MSE: ', mean_squared_error(y, y_pred))\n",
    "print(\"R^2: \", r2_score(y, y_pred))"
   ]
  },
  {
   "cell_type": "code",
   "execution_count": null,
   "metadata": {},
   "outputs": [],
   "source": []
  }
 ],
 "metadata": {
  "kernelspec": {
   "display_name": "concentracion",
   "language": "python",
   "name": "python3"
  },
  "language_info": {
   "codemirror_mode": {
    "name": "ipython",
    "version": 3
   },
   "file_extension": ".py",
   "mimetype": "text/x-python",
   "name": "python",
   "nbconvert_exporter": "python",
   "pygments_lexer": "ipython3",
   "version": "3.10.14"
  }
 },
 "nbformat": 4,
 "nbformat_minor": 2
}
